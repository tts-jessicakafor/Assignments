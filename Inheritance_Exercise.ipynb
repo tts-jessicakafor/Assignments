{
  "nbformat": 4,
  "nbformat_minor": 0,
  "metadata": {
    "colab": {
      "provenance": [],
      "authorship_tag": "ABX9TyMrVmMpyWj19t13wOPp3G/B"
    },
    "kernelspec": {
      "name": "python3",
      "display_name": "Python 3"
    },
    "language_info": {
      "name": "python"
    }
  },
  "cells": [
    {
      "cell_type": "code",
      "execution_count": 3,
      "metadata": {
        "colab": {
          "base_uri": "https://localhost:8080/"
        },
        "id": "VMdVP3UFzCIA",
        "outputId": "e0eeb72c-5ee2-498c-f58b-55f3bfa2e291"
      },
      "outputs": [
        {
          "output_type": "stream",
          "name": "stdout",
          "text": [
            "Your Grade is B\n"
          ]
        }
      ],
      "source": [
        "import array\n",
        "\n",
        "class Person:\n",
        "  def __init__(self, firstName, lastName, id, scores):\n",
        "    self.firstName = str(firstName)\n",
        "    self.lastName = str(lastName)\n",
        "    self.id = int(id)\n",
        "    self.scores = array.array('scores')\n",
        "\n",
        "class Student(Person):\n",
        "  def calculate(scores):\n",
        "    avg = sum(scores)/len(scores)\n",
        "\n",
        "    if avg>=90 and avg<=100:\n",
        "      print(\"Your Grade is A\")\n",
        "    elif avg>=80 and avg<90:\n",
        "      print(\"Your Grade is B\")\n",
        "    elif avg>=70 and avg<80:\n",
        "      print(\"Your Grade is C\")\n",
        "    elif avg>=60 and avg<70:\n",
        "      print(\"Your Grade is D\")\n",
        "    elif avg<60:\n",
        "      print(\"Your Grade is F\")\n",
        "    else:\n",
        "      print(\"Invalid Input!\")\n",
        "\n",
        "Student.calculate([98,76,88,91,99,70])\n"
      ]
    }
  ]
}