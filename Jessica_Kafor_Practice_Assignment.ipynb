{
  "metadata": {
    "language_info": {
      "name": "python"
    },
    "kernelspec": {
      "name": "python3",
      "display_name": "Python 3"
    },
    "colab": {
      "provenance": [],
      "collapsed_sections": []
    }
  },
  "nbformat_minor": 0,
  "nbformat": 4,
  "cells": [
    {
      "cell_type": "markdown",
      "source": [
        "1. Accept the user's first and last name and print them in reverse order with a space between them"
      ],
      "metadata": {
        "id": "CvJePKBMl2mn"
      }
    },
    {
      "cell_type": "code",
      "source": [
        "fname = input(\"Input your First Name : \")\n",
        "lname = input(\"Input your Last Name : \")\n",
        "print(str(lname) + \" \" + str(fname))"
      ],
      "metadata": {
        "id": "-eNYfYWelsln"
      },
      "execution_count": null,
      "outputs": []
    },
    {
      "cell_type": "markdown",
      "source": [
        "2. Accept an integer (n) input from the user and compute the value of n+nn+nnn For example if n=4 then n + nn + nnn = 4 + 44 + 444 = 492\n"
      ],
      "metadata": {
        "id": "QmOh6FIrl7zB"
      }
    },
    {
      "cell_type": "code",
      "source": [
        "n=int(input(\"Enter a number n: \"))\n",
        "temp=str(n)\n",
        "t1=temp+temp\n",
        "t2=temp+temp+temp\n",
        "total=n+int(t1)+int(t2)\n",
        "print(\"The value is:\", total)"
      ],
      "metadata": {
        "colab": {
          "base_uri": "https://localhost:8080/"
        },
        "id": "vIYWfLanmlcd",
        "outputId": "f5780a5d-1093-4a51-b84d-8627dbe177f6"
      },
      "execution_count": 23,
      "outputs": [
        {
          "output_type": "stream",
          "name": "stdout",
          "text": [
            "Enter a number n: 4\n",
            "The value is: 492\n"
          ]
        }
      ]
    },
    {
      "cell_type": "markdown",
      "source": [
        "3.Ask the user \"What country are you from?\" then print the following statement: \"I have heard that [input] is a beautiful country!\""
      ],
      "metadata": {
        "id": "Q8hra2vJmNSb"
      }
    },
    {
      "cell_type": "code",
      "source": [
        "country = input(\"What country are you from? \")\n",
        "print(\"I have heard that \"+str(country)+\" is a beautiful country!\")"
      ],
      "metadata": {
        "colab": {
          "base_uri": "https://localhost:8080/"
        },
        "id": "RzNoL1XzmQtA",
        "outputId": "11437890-f589-419b-b672-b420cb3ba675"
      },
      "execution_count": 10,
      "outputs": [
        {
          "output_type": "stream",
          "name": "stdout",
          "text": [
            "What country are you from? United States\n",
            "I have heard that United States is a beautiful country!\n"
          ]
        }
      ]
    },
    {
      "cell_type": "markdown",
      "source": [
        "4.What is the output of the following Python code\n",
        "the code only has an output if 10^2= 100 > 100 and 50 < 100 and 100 is equal to 100 not greater than so the result is nothing.\n"
      ],
      "metadata": {
        "id": "VnC-1QXgmd57"
      }
    },
    {
      "cell_type": "code",
      "source": [
        "x = 10\n",
        "y = 50\n",
        "if (x ** 2 > 100 and y < 100):\n",
        "    print(x, y)"
      ],
      "metadata": {
        "id": "vtEnWpF1mfyS"
      },
      "execution_count": 11,
      "outputs": []
    },
    {
      "cell_type": "markdown",
      "source": [
        "5. When you wrote b+= it concatenated the two lists and a was assigned to b so they print the same result"
      ],
      "metadata": {
        "id": "5wi4eVO0mqv5"
      }
    },
    {
      "cell_type": "code",
      "source": [
        "a = [10, 20]\n",
        "b = a\n",
        "b += [30, 40]\n",
        "print(a)\n",
        "print(b)"
      ],
      "metadata": {
        "trusted": true,
        "colab": {
          "base_uri": "https://localhost:8080/"
        },
        "id": "MxSyUTNTlOGz",
        "outputId": "fe27a395-ed17-49b3-d80e-a2eeb6d90784"
      },
      "execution_count": 13,
      "outputs": [
        {
          "output_type": "stream",
          "name": "stdout",
          "text": [
            "[10, 20, 30, 40]\n",
            "[10, 20, 30, 40]\n"
          ]
        }
      ]
    },
    {
      "cell_type": "markdown",
      "source": [
        "6. This is a modulus and 2 mod 6 is 2."
      ],
      "metadata": {
        "id": "krAnntBlmxJG"
      }
    },
    {
      "cell_type": "code",
      "source": [
        "print(2%6)"
      ],
      "metadata": {
        "trusted": true,
        "colab": {
          "base_uri": "https://localhost:8080/"
        },
        "id": "I0NMPT0ulOG0",
        "outputId": "9cdcbe5e-0c2d-4b11-ae5a-2e25da4c78e3"
      },
      "execution_count": 14,
      "outputs": [
        {
          "output_type": "stream",
          "name": "stdout",
          "text": [
            "2\n"
          ]
        }
      ]
    },
    {
      "cell_type": "markdown",
      "source": [
        "7. 2*3^3*4 so order of operations so we first do 3 to the power of 3 which is 27 so 2*27*4 = 16"
      ],
      "metadata": {
        "id": "6vEIk8cjm00-"
      }
    },
    {
      "cell_type": "code",
      "source": [
        "print(2 * 3 ** 3 * 4)"
      ],
      "metadata": {
        "trusted": true,
        "colab": {
          "base_uri": "https://localhost:8080/"
        },
        "id": "Nq9XbQSwlOG0",
        "outputId": "de006c39-2da3-4116-ad36-15d247a303e9"
      },
      "execution_count": 15,
      "outputs": [
        {
          "output_type": "stream",
          "name": "stdout",
          "text": [
            "216\n"
          ]
        }
      ]
    },
    {
      "cell_type": "markdown",
      "source": [
        "8. What is a text editor?\n",
        "A system or program that allows a user to edit text.\n",
        "In programming, we use it to write, run and execute code.\n",
        "There is Sublime Text, Visual Code, Atom, PyCharm, and etc."
      ],
      "metadata": {
        "id": "3vyU1XH4m-a-"
      }
    },
    {
      "cell_type": "markdown",
      "source": [
        "9. What is Python?\n",
        "Python is a high-level, general-purpose programming language. Its design philosophy emphasizes code readability with the use of significant indentation. Python is dynamically-typed and garbage-collected. \n",
        "It supports multiple programming paradigms, including structured, object-oriented and functional programming."
      ],
      "metadata": {
        "id": "jOL-EJl0nFjl"
      }
    },
    {
      "cell_type": "markdown",
      "source": [
        "10. What is jupyter notebook, what type of python environment is it and what alternatives are there to jupyter notebook? Jupyter notebook is an open-source IDE that is used to create Jupyter documents that can be created and shared with live codes.\n",
        "It has services for interactive computing across multiple programming languages. \n",
        "\n",
        "conda or pip are the python environments.\n",
        "\n",
        "An alterntive to Jupyter would be to use RStudio with R and Google Colab."
      ],
      "metadata": {
        "id": "Kxb7svgCnFyf"
      }
    }
  ]
}