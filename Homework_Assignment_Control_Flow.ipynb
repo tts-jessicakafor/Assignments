{
  "nbformat": 4,
  "nbformat_minor": 0,
  "metadata": {
    "colab": {
      "provenance": [],
      "authorship_tag": "ABX9TyM5F30sVF09pF+lnAapYxKF"
    },
    "kernelspec": {
      "name": "python3",
      "display_name": "Python 3"
    },
    "language_info": {
      "name": "python"
    }
  },
  "cells": [
    {
      "cell_type": "markdown",
      "source": [
        "Exercise 1 - Guess a number between 1 to 9 given by the user"
      ],
      "metadata": {
        "id": "0dA9Npikizda"
      }
    },
    {
      "cell_type": "code",
      "execution_count": null,
      "metadata": {
        "colab": {
          "base_uri": "https://localhost:8080/"
        },
        "id": "xM_M4MlRQQ9Q",
        "outputId": "9be20eee-4f53-4648-8112-d6d1e411ab9d"
      },
      "outputs": [
        {
          "output_type": "stream",
          "name": "stdout",
          "text": [
            "Give me a number between 1 and 9?9\n",
            "You were correct! The number is 9\n"
          ]
        }
      ],
      "source": [
        "import random\n",
        "\n",
        "guessNum = input(\"Give me a number between 1 and 9? \")\n",
        "\n",
        "randomNum = str(random.randint(1, 9))\n",
        "\n",
        "if guessNum == randomNum:\n",
        "  print(\"You were correct! The number is \" + randomNum)\n",
        "else:\n",
        "  print(\"You guessed wrong, sorry! The number is \" + randomNum)\n"
      ]
    },
    {
      "cell_type": "markdown",
      "source": [
        "Exercise 2 - Check the validity of password input by the user."
      ],
      "metadata": {
        "id": "lqSirY1Bi4js"
      }
    },
    {
      "cell_type": "code",
      "source": [
        "import re\n",
        "\n",
        "passwd = input(\"Please give a pasword: \")\n",
        "reg = \"^(?=.*[a-z])(?=.*[A-Z])(?=.*\\d)(?=.*[@$#])[A-Za-z\\d@$#]{1,9}$\"\n",
        "\n",
        "#compile regex\n",
        "pat = re.compile(reg)\n",
        "      \n",
        "# searching regex                 \n",
        "mat = re.search(pat, passwd)\n",
        "      \n",
        "# validating conditions\n",
        "if mat:\n",
        "  print(\"Password is valid.\")\n",
        "else:\n",
        "  print(\"Password invalid.\")\n"
      ],
      "metadata": {
        "id": "-_7ECT4Li8lT"
      },
      "execution_count": null,
      "outputs": []
    },
    {
      "cell_type": "markdown",
      "source": [
        "Exercise 3 - Get input of the age of 3 people by user and determine oldest and youngest among them"
      ],
      "metadata": {
        "id": "v6-_ZO4Bhi2a"
      }
    },
    {
      "cell_type": "code",
      "source": [
        "import re\n",
        "\n",
        "ages = input(\"Please enter the age of 3 people: \")\n",
        "ages = re.sub(\"[!@#$%^&*()[]{};:,./<>?\\|`~-=_+]\", \" \", ages)\n",
        "ages = ages.replace('.','')\n",
        "ages = list(ages)\n",
        "\n",
        "print(sorted(ages, reverse=True))\n"
      ],
      "metadata": {
        "colab": {
          "base_uri": "https://localhost:8080/"
        },
        "id": "8uS5bmXehjoI",
        "outputId": "495895f4-9c1a-41dd-aa94-3fd1a3941ff6"
      },
      "execution_count": null,
      "outputs": [
        {
          "output_type": "stream",
          "name": "stdout",
          "text": [
            "Please enter the age of 3 people: 6.7.8\n",
            "['8', '7', '6']\n"
          ]
        }
      ]
    },
    {
      "cell_type": "markdown",
      "source": [
        "Exercise 4 - A student will not be allowed to sit in exam if his/her attendance is less than 75%.\n",
        "\n",
        "Take following input from user\n",
        "\n",
        "\n",
        "\n",
        "*   List Number of classes held\n",
        "*   List Number of classes attended.\n",
        "*   And print\n",
        "*   percentage of class attended\n",
        "\n",
        "Is student is allowed to sit in exam or not?"
      ],
      "metadata": {
        "id": "EwCbO1HinIIg"
      }
    },
    {
      "cell_type": "code",
      "source": [
        "numClassesHeld = input(\"Number of classes held? \")\n",
        "numClassesAttended = input(\"Number of classes attended? \")\n",
        "\n",
        "print(\"Number of Classes Held: \" + numClassesHeld)\n",
        "print(\"Number of Class attended: \" + numClassesAttended)\n",
        "\n",
        "attendance = (int(numClassesAttended) / int(numClassesHeld))*100\n",
        "attendance = int(attendance)\n",
        "\n",
        "if attendance < 75:\n",
        "  print(str(attendance)+\"% is too low so you cannot sit in exam.\")\n",
        "else:\n",
        "  print(str(attendance)+\"% is good enough so you can sit in exam.\")"
      ],
      "metadata": {
        "colab": {
          "base_uri": "https://localhost:8080/"
        },
        "id": "kP3K3O7FnNwh",
        "outputId": "cbf0e26a-e26b-4684-cfe6-fa8f6a16ca58"
      },
      "execution_count": null,
      "outputs": [
        {
          "output_type": "stream",
          "name": "stdout",
          "text": [
            "Number of classes held? 100\n",
            "Number of classes attended? 90\n",
            "Number of Classes Held: 100\n",
            "Number of Class attended: 90\n",
            "90% is good enough so you can sit in exam.\n"
          ]
        }
      ]
    },
    {
      "cell_type": "markdown",
      "source": [
        "Exercise 5\n",
        "\n",
        "Get an integer N from the user and perform the following actions:\n",
        "\n",
        "\n",
        "\n",
        "*   if N is odd, print \"weird\"\n",
        "*   if N is even and in the inclusive range of 2 to 5, print \"Not Weird\"\n",
        "*   if N is even and in the inclusive range of 6 to 20, print \"Weird\"\n",
        "*   if N is even and greater than 20, print \"Not Weird\""
      ],
      "metadata": {
        "id": "5FrfnX_bq81Q"
      }
    },
    {
      "cell_type": "code",
      "source": [
        "intgr = input(\"Please enter one digit: \")\n",
        "intgr = int(intgr)\n",
        "\n",
        "if intgr % 2 != 0:\n",
        "  print(\"weird\")\n",
        "elif intgr % 2 == 0 and intgr >= 2 and intgr <= 5:\n",
        "  print(\"Not Weird\")\n",
        "elif intgr % 2 == 0 and intgr >= 6 and intgr <= 20:\n",
        "  print(\"Weird\")\n",
        "elif intgr % 2 == 0 and intgr > 20:\n",
        "  print(\"Not Weird\")\n",
        "\n"
      ],
      "metadata": {
        "colab": {
          "base_uri": "https://localhost:8080/"
        },
        "id": "zUsIO9LvsiiS",
        "outputId": "262fe75e-7210-4aec-ddf3-683eb96aeca9"
      },
      "execution_count": 50,
      "outputs": [
        {
          "output_type": "stream",
          "name": "stdout",
          "text": [
            "Please enter one digit: 1\n",
            "weird\n"
          ]
        }
      ]
    }
  ]
}