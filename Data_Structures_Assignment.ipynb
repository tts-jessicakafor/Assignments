{
  "nbformat": 4,
  "nbformat_minor": 0,
  "metadata": {
    "colab": {
      "provenance": [],
      "authorship_tag": "ABX9TyP6jParqLaCeMvqs5gcMvOY",
      "include_colab_link": true
    },
    "kernelspec": {
      "name": "python3",
      "display_name": "Python 3"
    },
    "language_info": {
      "name": "python"
    }
  },
  "cells": [
    {
      "cell_type": "markdown",
      "metadata": {
        "id": "view-in-github",
        "colab_type": "text"
      },
      "source": [
        "<a href=\"https://colab.research.google.com/github/tts-jessicakafor/Assignments/blob/main/Data_Structures_Assignment.ipynb\" target=\"_parent\"><img src=\"https://colab.research.google.com/assets/colab-badge.svg\" alt=\"Open In Colab\"/></a>"
      ]
    },
    {
      "cell_type": "markdown",
      "source": [
        "**Exercise 1**\n",
        "In mathematics, the quadratic equation ax2+bx+c=0 can be solved with the formula x=−b±b2−4ac√2a.\n",
        "\n",
        "Write a function solve_quadratic, that returns both solutions of a generic quadratic as a pair (2-tuple) when the coefficients are given as parameters."
      ],
      "metadata": {
        "id": "UO5J6RSAf-jR"
      }
    },
    {
      "cell_type": "code",
      "source": [
        "import math\n",
        "\n",
        "def solve_quadratic(a,b,c):\n",
        "  x1 = (-b+math.sqrt(b**2-4*a*c))/(2*a)\n",
        "  x2 = (-b-math.sqrt(b**2-4*a*c))/(2*a)\n",
        "  return x1,x2\n",
        "print(solve_quadratic(1,-3,2))\n",
        "print(solve_quadratic(1,2,1))"
      ],
      "metadata": {
        "colab": {
          "base_uri": "https://localhost:8080/"
        },
        "id": "W6m5FT0GgBA1",
        "outputId": "dd0e0104-3642-4cb2-a3c2-5551578f87c4"
      },
      "execution_count": 33,
      "outputs": [
        {
          "output_type": "stream",
          "name": "stdout",
          "text": [
            "(2.0, 1.0)\n",
            "(-1.0, -1.0)\n"
          ]
        }
      ]
    },
    {
      "cell_type": "markdown",
      "source": [
        "**Exercise 2**\n",
        "Get a space-separated list of integers from the user, create a tuple of those integers. Then compute and print the result of hash(tuple)."
      ],
      "metadata": {
        "id": "EfgFvePaf5Zl"
      }
    },
    {
      "cell_type": "code",
      "source": [
        "#list = []\n",
        "user_list = input(\"Give me a list of numbers please: \")\n",
        "\n",
        "def convert(user_list):\n",
        "    return tuple(i for i in user_list)\n",
        "  \n",
        "#print(convert(user_list))\n",
        "print(\"hash tuple: \", hash(convert(user_list)))\n",
        "\n",
        "#print(tuple(user_list))\n",
        "#print(hash(tuple(user_list)))"
      ],
      "metadata": {
        "colab": {
          "base_uri": "https://localhost:8080/"
        },
        "id": "T8kcGlo9Wdw4",
        "outputId": "b3f02c7a-5c80-4086-ddac-c0ae8773ac90"
      },
      "execution_count": 54,
      "outputs": [
        {
          "output_type": "stream",
          "name": "stdout",
          "text": [
            "Give me a list of numbers please: [1,2,3]\n",
            "hash tuple:  -5792246279119834587\n"
          ]
        }
      ]
    },
    {
      "cell_type": "markdown",
      "source": [
        "**Exercise 3**\n",
        "Take the following two lists. Create a third list by picking a odd-index elements from the first list and even-index elements from the second."
      ],
      "metadata": {
        "id": "mU0uqgs4fzf1"
      }
    },
    {
      "cell_type": "code",
      "source": [
        "listOne = [3, 6, 9, 12, 15, 18, 21]\n",
        "listTwo = [4, 8, 12, 16, 20, 24, 28]\n",
        "listThree = []\n",
        "for index, item in enumerate(listOne):\n",
        "  if index % 2 != 0:\n",
        "    listThree.append(item)\n",
        "\n",
        "for index, item in enumerate(listTwo):\n",
        "  if index % 2 == 0:\n",
        "    listThree.append(item)\n",
        "\n",
        "print(listThree)"
      ],
      "metadata": {
        "colab": {
          "base_uri": "https://localhost:8080/"
        },
        "id": "qiRpHWuVfxu_",
        "outputId": "fb9e3567-47b6-4826-ed1d-e4faf744f28d"
      },
      "execution_count": 56,
      "outputs": [
        {
          "output_type": "stream",
          "name": "stdout",
          "text": [
            "[6, 12, 18, 4, 12, 20, 28]\n"
          ]
        }
      ]
    },
    {
      "cell_type": "markdown",
      "source": [
        "**Exercise 4**\n",
        "Take the following list. Slice it into three equal chunks and reverse each list."
      ],
      "metadata": {
        "id": "lmoY4KmsgyPA"
      }
    },
    {
      "cell_type": "code",
      "source": [
        "sampleList = [11, 45, 8, 23, 14, 12, 78, 45, 89]\n",
        "sampleList1 = sampleList[0:3]\n",
        "sampleList2 = sampleList[3:6]\n",
        "sampleList3 = sampleList[6:9]\n",
        "print(sampleList1[::-1],sampleList2[::-1],sampleList3[::-1])\n"
      ],
      "metadata": {
        "colab": {
          "base_uri": "https://localhost:8080/"
        },
        "id": "C4RfL_vyg3NK",
        "outputId": "aee4cb0b-53af-4f73-9385-d68d3eefdeb0"
      },
      "execution_count": 51,
      "outputs": [
        {
          "output_type": "stream",
          "name": "stdout",
          "text": [
            "[8, 45, 11] [12, 14, 23] [89, 45, 78]\n"
          ]
        }
      ]
    },
    {
      "cell_type": "markdown",
      "source": [
        "**Exercise 5**\n",
        "Iterate through a given list and check if a given element already exists in a dictionary as a key’s value. If not, delete it from the list."
      ],
      "metadata": {
        "id": "K_inpf6bjQov"
      }
    },
    {
      "cell_type": "code",
      "source": [
        "rollNumber = [47, 64, 69, 37, 76, 83, 95, 97]\n",
        "sampleDict ={'Zach':47, 'Emma':69, 'Kelly':76, 'Jason':97}\n",
        "newList = []\n",
        "for item in rollNumber:\n",
        "  for key in sampleDict.values():\n",
        "    if item == key:\n",
        "      newList.append(item)\n",
        "print(newList)"
      ],
      "metadata": {
        "colab": {
          "base_uri": "https://localhost:8080/"
        },
        "id": "fyHkrbnvjUPT",
        "outputId": "cfa788ed-a4e8-41af-c31b-737317dea8a7"
      },
      "execution_count": 63,
      "outputs": [
        {
          "output_type": "stream",
          "name": "stdout",
          "text": [
            "[47, 69, 76, 97]\n"
          ]
        }
      ]
    }
  ]
}